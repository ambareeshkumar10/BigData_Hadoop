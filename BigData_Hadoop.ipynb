{
  "nbformat": 4,
  "nbformat_minor": 0,
  "metadata": {
    "colab": {
      "name": "BigData_Hadoop.ipynb",
      "provenance": [],
      "collapsed_sections": []
    },
    "kernelspec": {
      "name": "python3",
      "display_name": "Python 3"
    },
    "language_info": {
      "name": "python"
    }
  },
  "cells": [
    {
      "cell_type": "code",
      "source": [
        "! pip install pyspark"
      ],
      "metadata": {
        "colab": {
          "base_uri": "https://localhost:8080/"
        },
        "id": "W-08ozI3Afbw",
        "outputId": "e24c7d66-9a8d-4a2d-8439-0e0ef842228e"
      },
      "execution_count": 34,
      "outputs": [
        {
          "output_type": "stream",
          "name": "stdout",
          "text": [
            "Looking in indexes: https://pypi.org/simple, https://us-python.pkg.dev/colab-wheels/public/simple/\n",
            "Requirement already satisfied: pyspark in /usr/local/lib/python3.7/dist-packages (3.2.1)\n",
            "Requirement already satisfied: py4j==0.10.9.3 in /usr/local/lib/python3.7/dist-packages (from pyspark) (0.10.9.3)\n"
          ]
        }
      ]
    },
    {
      "cell_type": "code",
      "execution_count": 35,
      "metadata": {
        "id": "eyej3fy__kyG"
      },
      "outputs": [],
      "source": [
        "# Import necessary libraries\n",
        "\n",
        "import pyspark\n",
        "from pyspark.sql import SparkSession\n",
        "from pyspark.sql import Row\n",
        "appName= \"hive_pyspark\"\n",
        "master= \"local\""
      ]
    },
    {
      "cell_type": "code",
      "source": [
        "# Creating spark session\n",
        "spark = SparkSession.builder.master(master).appName(appName).enableHiveSupport().getOrCreate()"
      ],
      "metadata": {
        "id": "_NALloErAd7r"
      },
      "execution_count": 36,
      "outputs": []
    },
    {
      "cell_type": "code",
      "source": [
        "# Show DataBases\n",
        "df = spark.sql(\"show databases\")\n",
        "df.show()"
      ],
      "metadata": {
        "colab": {
          "base_uri": "https://localhost:8080/"
        },
        "id": "nAjdkvkPBtYD",
        "outputId": "5e82f879-968f-4bd1-ce63-02169bc833fa"
      },
      "execution_count": 37,
      "outputs": [
        {
          "output_type": "stream",
          "name": "stdout",
          "text": [
            "+---------+\n",
            "|namespace|\n",
            "+---------+\n",
            "|  default|\n",
            "+---------+\n",
            "\n"
          ]
        }
      ]
    },
    {
      "cell_type": "code",
      "source": [
        "# Converting csv file to hive table\n",
        "datafile = spark.read.csv(\"/content/boston.csv\",header=True)\n",
        "datafile.show(5)\n",
        "datafile.write.saveAsTable(\"boston\")"
      ],
      "metadata": {
        "colab": {
          "base_uri": "https://localhost:8080/"
        },
        "id": "1zb6-ytMFVxa",
        "outputId": "0a394584-5034-48fa-ee6a-6f73ff787e42"
      },
      "execution_count": 39,
      "outputs": [
        {
          "output_type": "stream",
          "name": "stdout",
          "text": [
            "+-----------+---+-----------+----+-----------+-----------+-----------+-----------+---+---+-----------+-----------+-----------+-----------+\n",
            "|       CRIM| ZN|      INDUS|CHAS|        NOX|         RM|        AGE|        DIS|RAD|TAX|         PT|          B|      LSTAT|         MV|\n",
            "+-----------+---+-----------+----+-----------+-----------+-----------+-----------+---+---+-----------+-----------+-----------+-----------+\n",
            "|    0.00632| 18|2.309999943|   0|0.537999988|6.574999809|65.19999695|4.090000153|  1|296|15.30000019|396.8999939|4.980000019|         24|\n",
            "|0.027310001|  0|7.070000172|   0|0.469000012|6.421000004|78.90000153|4.967100143|  2|242|17.79999924|396.8999939|9.140000343|21.60000038|\n",
            "|    0.02729|  0|7.070000172|   0|0.469000012|7.184999943|61.09999847|4.967100143|  2|242|17.79999924|392.8299866| 4.03000021|34.70000076|\n",
            "|0.032370001|  0|2.180000067|   0|0.458000004|6.998000145|45.79999924|6.062200069|  3|222|18.70000076|394.6300049|2.940000057|33.40000153|\n",
            "|0.069049999|  0|2.180000067|   0|0.458000004|7.146999836|54.20000076|6.062200069|  3|222|18.70000076|396.8999939|5.329999924|36.20000076|\n",
            "+-----------+---+-----------+----+-----------+-----------+-----------+-----------+---+---+-----------+-----------+-----------+-----------+\n",
            "only showing top 5 rows\n",
            "\n"
          ]
        }
      ]
    },
    {
      "cell_type": "code",
      "source": [
        "# DataFrame Created by fetching data from  botson hive table\n",
        "\n",
        "df1 = spark.sql(\"select * from boston\")\n",
        "df1.show()"
      ],
      "metadata": {
        "colab": {
          "base_uri": "https://localhost:8080/"
        },
        "id": "SfFZTtivGPBg",
        "outputId": "012b9b8a-65d2-4bdb-b38e-8ce65acaa1a2"
      },
      "execution_count": 40,
      "outputs": [
        {
          "output_type": "stream",
          "name": "stdout",
          "text": [
            "+-----------+----+-----------+----+-----------+-----------+-----------+-----------+---+---+-----------+-----------+-----------+-----------+\n",
            "|       CRIM|  ZN|      INDUS|CHAS|        NOX|         RM|        AGE|        DIS|RAD|TAX|         PT|          B|      LSTAT|         MV|\n",
            "+-----------+----+-----------+----+-----------+-----------+-----------+-----------+---+---+-----------+-----------+-----------+-----------+\n",
            "|    0.00632|  18|2.309999943|   0|0.537999988|6.574999809|65.19999695|4.090000153|  1|296|15.30000019|396.8999939|4.980000019|         24|\n",
            "|0.027310001|   0|7.070000172|   0|0.469000012|6.421000004|78.90000153|4.967100143|  2|242|17.79999924|396.8999939|9.140000343|21.60000038|\n",
            "|    0.02729|   0|7.070000172|   0|0.469000012|7.184999943|61.09999847|4.967100143|  2|242|17.79999924|392.8299866| 4.03000021|34.70000076|\n",
            "|0.032370001|   0|2.180000067|   0|0.458000004|6.998000145|45.79999924|6.062200069|  3|222|18.70000076|394.6300049|2.940000057|33.40000153|\n",
            "|0.069049999|   0|2.180000067|   0|0.458000004|7.146999836|54.20000076|6.062200069|  3|222|18.70000076|396.8999939|5.329999924|36.20000076|\n",
            "|0.029850001|   0|2.180000067|   0|0.458000004|6.429999828|58.70000076|6.062200069|  3|222|18.70000076|394.1199951|5.210000038|28.70000076|\n",
            "|0.088289998|12.5|7.869999886|   0|0.523999989|6.012000084|66.59999847|5.560500145|  5|311|15.19999981|395.6000061|12.43000031|22.89999962|\n",
            "|0.144549996|12.5|7.869999886|   0|0.523999989|6.171999931|96.09999847|5.950500011|  5|311|15.19999981|396.8999939|19.14999962|27.10000038|\n",
            "|0.211239994|12.5|7.869999886|   0|0.523999989|5.631000042|        100|6.082099915|  5|311|15.19999981|386.6300049|29.93000031|       16.5|\n",
            "|0.170039997|12.5|7.869999886|   0|0.523999989|6.004000187|85.90000153|6.592100143|  5|311|15.19999981|386.7099915|17.10000038|18.89999962|\n",
            "|0.224889994|12.5|7.869999886|   0|0.523999989|6.376999855|94.30000305|6.346700191|  5|311|15.19999981| 392.519989|20.45000076|         15|\n",
            "|0.117470004|12.5|7.869999886|   0|0.523999989|6.008999825|82.90000153|6.226699829|  5|311|15.19999981|396.8999939|13.27000046|18.89999962|\n",
            "|0.093780003|12.5|7.869999886|   0|0.523999989|5.888999939|         39|5.450900078|  5|311|15.19999981|      390.5|15.71000004|21.70000076|\n",
            "|0.629760027|   0|8.140000343|   0|0.537999988|5.948999882|61.79999924|4.707499981|  4|307|         21|396.8999939|8.260000229|20.39999962|\n",
            "|0.637960017|   0|8.140000343|   0|0.537999988|6.096000195|       84.5|4.461900234|  4|307|         21| 380.019989|10.26000023|18.20000076|\n",
            "|0.627390027|   0|8.140000343|   0|0.537999988|5.834000111|       56.5|4.498600006|  4|307|         21|395.6199951|8.470000267|19.89999962|\n",
            "|1.053930044|   0|8.140000343|   0|0.537999988|5.934999943|29.29999924|4.498600006|  4|307|         21|386.8500061|6.579999924|23.10000038|\n",
            "|0.784200013|   0|8.140000343|   0|0.537999988|5.989999771|81.69999695|4.257900238|  4|307|         21|     386.75|14.67000008|       17.5|\n",
            "|0.802709997|   0|8.140000343|   0|0.537999988|5.455999851|36.59999847|3.796499968|  4|307|         21|288.9899902|11.68999958|20.20000076|\n",
            "|0.725799978|   0|8.140000343|   0|0.537999988|5.727000237|       69.5|3.796499968|  4|307|         21|390.9500122|11.27999973|18.20000076|\n",
            "+-----------+----+-----------+----+-----------+-----------+-----------+-----------+---+---+-----------+-----------+-----------+-----------+\n",
            "only showing top 20 rows\n",
            "\n"
          ]
        }
      ]
    },
    {
      "cell_type": "code",
      "source": [
        "# Casting all Columns to double\n",
        "\n",
        "from pyspark.sql.functions import col\n",
        "\n",
        "table = spark.sql(\"select * from boston\")\n",
        "\n",
        "df2 = table.select([col(c).cast(\"double\") for c in table.columns])"
      ],
      "metadata": {
        "id": "pLQfpOQzJy9B"
      },
      "execution_count": 41,
      "outputs": []
    },
    {
      "cell_type": "code",
      "source": [
        "# Schema  of dataframe\n",
        "\n",
        "df2.printSchema()"
      ],
      "metadata": {
        "colab": {
          "base_uri": "https://localhost:8080/"
        },
        "id": "onwJ7BAuG7b-",
        "outputId": "f2a4e3ad-6353-45a8-f6bd-54da1f309359"
      },
      "execution_count": 42,
      "outputs": [
        {
          "output_type": "stream",
          "name": "stdout",
          "text": [
            "root\n",
            " |-- CRIM: double (nullable = true)\n",
            " |-- ZN: double (nullable = true)\n",
            " |-- INDUS: double (nullable = true)\n",
            " |-- CHAS: double (nullable = true)\n",
            " |-- NOX: double (nullable = true)\n",
            " |-- RM: double (nullable = true)\n",
            " |-- AGE: double (nullable = true)\n",
            " |-- DIS: double (nullable = true)\n",
            " |-- RAD: double (nullable = true)\n",
            " |-- TAX: double (nullable = true)\n",
            " |-- PT: double (nullable = true)\n",
            " |-- B: double (nullable = true)\n",
            " |-- LSTAT: double (nullable = true)\n",
            " |-- MV: double (nullable = true)\n",
            "\n"
          ]
        }
      ]
    },
    {
      "cell_type": "code",
      "source": [
        "# correlation between dependent and independent variables\n",
        "import six\n",
        "for i in df2.columns:\n",
        "    if not( isinstance(df2.select(i).take(1)[0][0], six.string_types)):\n",
        "        print( \"Correlation to MV for \", i, df2.stat.corr('MV',i))"
      ],
      "metadata": {
        "colab": {
          "base_uri": "https://localhost:8080/"
        },
        "id": "EClZ5RlpHAsJ",
        "outputId": "96b14e6d-9e6a-4502-ce54-6606c091bc32"
      },
      "execution_count": 43,
      "outputs": [
        {
          "output_type": "stream",
          "name": "stdout",
          "text": [
            "Correlation to MV for  CRIM -0.3883046116575088\n",
            "Correlation to MV for  ZN 0.36044534463752903\n",
            "Correlation to MV for  INDUS -0.48372517128143383\n",
            "Correlation to MV for  CHAS 0.17526017775291847\n",
            "Correlation to MV for  NOX -0.4273207763683772\n",
            "Correlation to MV for  RM 0.695359937127267\n",
            "Correlation to MV for  AGE -0.37695456714288667\n",
            "Correlation to MV for  DIS 0.24992873873512172\n",
            "Correlation to MV for  RAD -0.3816262315669168\n",
            "Correlation to MV for  TAX -0.46853593528654536\n",
            "Correlation to MV for  PT -0.5077867038116085\n",
            "Correlation to MV for  B 0.3334608226834164\n",
            "Correlation to MV for  LSTAT -0.7376627294671615\n",
            "Correlation to MV for  MV 1.0\n"
          ]
        }
      ]
    },
    {
      "cell_type": "code",
      "source": [
        "# converting DataFrame to two columns Features and label\n",
        "\n",
        "cols = df2.columns\n",
        "cols.remove('MV')\n",
        "\n",
        "from pyspark.ml.feature import VectorAssembler\n",
        "vectorAssembler = VectorAssembler(inputCols = cols , outputCol = 'features')\n",
        "final_df = vectorAssembler.transform(df2)\n",
        "final_df = final_df.select(['features', 'MV'])\n",
        "final_df.show(3)"
      ],
      "metadata": {
        "colab": {
          "base_uri": "https://localhost:8080/"
        },
        "id": "LINd5hwgLdsc",
        "outputId": "163912f1-3a86-4da5-a306-a1475de58da9"
      },
      "execution_count": 44,
      "outputs": [
        {
          "output_type": "stream",
          "name": "stdout",
          "text": [
            "+--------------------+-----------+\n",
            "|            features|         MV|\n",
            "+--------------------+-----------+\n",
            "|[0.00632,18.0,2.3...|       24.0|\n",
            "|[0.027310001,0.0,...|21.60000038|\n",
            "|[0.02729,0.0,7.07...|34.70000076|\n",
            "+--------------------+-----------+\n",
            "only showing top 3 rows\n",
            "\n"
          ]
        }
      ]
    },
    {
      "cell_type": "code",
      "source": [
        "# Split into train and test DataFrame\n",
        "\n",
        "splits = final_df.randomSplit([0.7, 0.3])\n",
        "train_df = splits[0]\n",
        "test_df = splits[1]"
      ],
      "metadata": {
        "id": "As_W6dePMAkC"
      },
      "execution_count": 45,
      "outputs": []
    },
    {
      "cell_type": "code",
      "source": [
        "# Linear Regression\n",
        "\n",
        "from pyspark.ml.regression import LinearRegression\n",
        "lr = LinearRegression(featuresCol = 'features', labelCol='MV', maxIter=10, regParam=0.3, elasticNetParam=0.8)\n",
        "lr_model = lr.fit(train_df)\n",
        "print(\"Coefficients: \" + str(lr_model.coefficients))\n",
        "print(\"Intercept: \" + str(lr_model.intercept))"
      ],
      "metadata": {
        "colab": {
          "base_uri": "https://localhost:8080/"
        },
        "id": "Eemi0OGpMR1G",
        "outputId": "29758e63-d7fc-4d7d-c5ce-e2ae2aeb5d9e"
      },
      "execution_count": 46,
      "outputs": [
        {
          "output_type": "stream",
          "name": "stdout",
          "text": [
            "Coefficients: [-0.05001065399421923,0.02481814438396697,-0.00037041471764136214,1.4405822731141704,-5.3079020891678566,3.9686620748408936,-0.0017157396994151944,-0.7267199341127945,0.0,-0.0007104884340947846,-0.7870692158228544,0.008811313651531748,-0.527476590907259]\n",
            "Intercept: 21.436608712575563\n"
          ]
        }
      ]
    },
    {
      "cell_type": "code",
      "source": [
        "# RMSE and R2 Score of LinearRegression \n",
        "\n",
        "print(\"RMSE: %f\" % lr_model.summary.rootMeanSquaredError)\n",
        "print(\"r2: %f\" % lr_model.summary.r2)"
      ],
      "metadata": {
        "colab": {
          "base_uri": "https://localhost:8080/"
        },
        "id": "MBh-IiyYMX2R",
        "outputId": "a96f3988-dbf7-4c39-8fa1-5f974b89b94b"
      },
      "execution_count": 47,
      "outputs": [
        {
          "output_type": "stream",
          "name": "stdout",
          "text": [
            "RMSE: 4.920404\n",
            "r2: 0.721252\n"
          ]
        }
      ]
    },
    {
      "cell_type": "code",
      "source": [
        "# RMSE and R2 Score of LinearRegression Test Data\n",
        "\n",
        "lr_predictions = lr_model.transform(test_df)\n",
        "lr_predictions.select(\"prediction\",\"MV\",\"features\").show(5)\n",
        "from pyspark.ml.evaluation import RegressionEvaluator\n",
        "lr_evaluator = RegressionEvaluator(predictionCol=\"prediction\",labelCol=\"MV\",metricName=\"r2\")\n",
        "print(\"R Squared (R2) on test data = %g\" % lr_evaluator.evaluate(lr_predictions))"
      ],
      "metadata": {
        "colab": {
          "base_uri": "https://localhost:8080/"
        },
        "id": "2ExAg_Z8Ta74",
        "outputId": "d09f96d1-14a2-4434-9e60-c9afcf74ec06"
      },
      "execution_count": 48,
      "outputs": [
        {
          "output_type": "stream",
          "name": "stdout",
          "text": [
            "+------------------+-----------+--------------------+\n",
            "|        prediction|         MV|            features|\n",
            "+------------------+-----------+--------------------+\n",
            "|27.861699054448017|       22.0|[0.01096,55.0,2.2...|\n",
            "|30.994619991362548|29.10000038|[0.01439,60.0,2.9...|\n",
            "| 31.75761591307047|32.90000153|[0.01778,95.0,1.4...|\n",
            "| 26.64124351247619|23.10000038|[0.0187,85.0,4.15...|\n",
            "|30.897381153060497|34.70000076|[0.02729,0.0,7.07...|\n",
            "+------------------+-----------+--------------------+\n",
            "only showing top 5 rows\n",
            "\n",
            "R Squared (R2) on test data = 0.704794\n"
          ]
        }
      ]
    },
    {
      "cell_type": "code",
      "source": [
        "# RMSE of Test Data\n",
        "test_result = lr_model.evaluate(test_df)\n",
        "print(\"Root Mean Squared Error (RMSE) on test data = %g\" % test_result.rootMeanSquaredError)"
      ],
      "metadata": {
        "colab": {
          "base_uri": "https://localhost:8080/"
        },
        "id": "Myz4WiuOTarK",
        "outputId": "dd14e8f7-ee4d-4c29-a34d-982531e4bc1e"
      },
      "execution_count": 49,
      "outputs": [
        {
          "output_type": "stream",
          "name": "stdout",
          "text": [
            "Root Mean Squared Error (RMSE) on test data = 4.84002\n"
          ]
        }
      ]
    },
    {
      "cell_type": "code",
      "source": [
        "print(\"numIterations: %d\" % lr_model.summary.totalIterations)\n",
        "print(\"objectiveHistory: %s\" % str(lr_model.summary.objectiveHistory))\n",
        "lr_model.summary.residuals.show()"
      ],
      "metadata": {
        "colab": {
          "base_uri": "https://localhost:8080/"
        },
        "id": "d4RzULtaT4zb",
        "outputId": "dcd2b959-81b4-4eb9-c0d1-90daaf058a37"
      },
      "execution_count": 50,
      "outputs": [
        {
          "output_type": "stream",
          "name": "stdout",
          "text": [
            "numIterations: 10\n",
            "objectiveHistory: [0.49999999999999956, 0.4311028521971911, 0.22931548508091384, 0.2084563040484514, 0.18204050442924605, 0.17869861532186226, 0.17714326401783656, 0.17635111235244696, 0.17612115819272461, 0.17598231474678722, 0.17584372075759416]\n"
          ]
        },
        {
          "output_type": "stream",
          "name": "stderr",
          "text": [
            "/usr/local/lib/python3.7/dist-packages/pyspark/sql/context.py:127: FutureWarning: Deprecated in 3.0.0. Use SparkSession.builder.getOrCreate() instead.\n",
            "  FutureWarning\n"
          ]
        },
        {
          "output_type": "stream",
          "name": "stdout",
          "text": [
            "+--------------------+\n",
            "|           residuals|\n",
            "+--------------------+\n",
            "|  -6.654227018764537|\n",
            "|  0.7779829064207142|\n",
            "|  1.0231688470129328|\n",
            "|   4.756295549672501|\n",
            "|  1.0638134543301767|\n",
            "|  11.333122163759647|\n",
            "|-0.37858727970709083|\n",
            "|  -3.534989815533283|\n",
            "|    8.92102558295268|\n",
            "|   8.428120029388928|\n",
            "|   3.280035007295254|\n",
            "|   7.524533984120989|\n",
            "| -1.0360834286996088|\n",
            "|  10.113076020641614|\n",
            "| -1.8775048045233937|\n",
            "|  5.3762679845228405|\n",
            "|-0.49139838708166295|\n",
            "|   -9.54266613434065|\n",
            "|  -4.236302367094314|\n",
            "| -2.2973999143630977|\n",
            "+--------------------+\n",
            "only showing top 20 rows\n",
            "\n"
          ]
        }
      ]
    },
    {
      "cell_type": "code",
      "source": [
        "predictions = lr_model.transform(test_df)\n",
        "predictions.select(\"prediction\",\"MV\",\"features\").show()"
      ],
      "metadata": {
        "colab": {
          "base_uri": "https://localhost:8080/"
        },
        "id": "oQT57jR8UMZD",
        "outputId": "1d3b7e99-fe99-418b-e1fa-3c3ccc9b11e4"
      },
      "execution_count": 51,
      "outputs": [
        {
          "output_type": "stream",
          "name": "stdout",
          "text": [
            "+------------------+-----------+--------------------+\n",
            "|        prediction|         MV|            features|\n",
            "+------------------+-----------+--------------------+\n",
            "|27.861699054448017|       22.0|[0.01096,55.0,2.2...|\n",
            "|30.994619991362548|29.10000038|[0.01439,60.0,2.9...|\n",
            "| 31.75761591307047|32.90000153|[0.01778,95.0,1.4...|\n",
            "| 26.64124351247619|23.10000038|[0.0187,85.0,4.15...|\n",
            "|30.897381153060497|34.70000076|[0.02729,0.0,7.07...|\n",
            "|25.175239059001438|21.60000038|[0.027310001,0.0,...|\n",
            "|29.859460150767248|30.79999924|[0.027629999,75.0...|\n",
            "|24.590329909321785|19.39999962|[0.03466,35.0,6.0...|\n",
            "|23.395909542617805|20.89999962|[0.03548,80.0,3.6...|\n",
            "| 36.64022126044747|45.40000153|[0.035780001,20.0...|\n",
            "|25.621336679501923|24.79999924|[0.036589999,25.0...|\n",
            "|26.313624951962012|23.20000076|[0.038710002,52.5...|\n",
            "| 28.05985274492076|       28.0|[0.041129999,25.0...|\n",
            "|26.268679078387528|24.79999924|[0.042970002,52.5...|\n",
            "|  23.9331381434123|       20.5|[0.043370001,21.0...|\n",
            "|   23.897096220296|19.79999924|[0.04544,0.0,3.24...|\n",
            "|22.978636405609432|11.89999962|[0.04741,0.0,11.9...|\n",
            "|25.687329424607967|21.89999962|[0.048190001,80.0...|\n",
            "|24.093152544105134|23.39999962|[0.04981,21.0,5.6...|\n",
            "|24.535923010822163|23.89999962|[0.050590001,0.0,...|\n",
            "+------------------+-----------+--------------------+\n",
            "only showing top 20 rows\n",
            "\n"
          ]
        }
      ]
    }
  ]
}